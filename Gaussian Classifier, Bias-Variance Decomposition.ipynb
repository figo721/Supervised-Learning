{
 "cells": [
  {
   "cell_type": "markdown",
   "metadata": {},
   "source": [
    "<h1 style=\"color:rgb(0,120,170)\"> Gaussian Classifier, Bias-Variance Decomposition</h1>"
   ]
  },
  {
   "cell_type": "markdown",
   "metadata": {},
   "source": [
    "<h2 style=\"color:rgb(0,120,170)\">Task 1: Gaussian classifier: visualization & parameter estimation</h2>\n",
    "\n",
    "* Visualize the data stored in `Normal.csv` with two different colors. Always label the axes of all your plots.\n",
    "* We assume that the data are distributed according to a two-dimensional multivariate normal distribution. Estimate the means and covariance matrices as well as $p(y=+1)$ and $p(y=-1)$\n",
    "from the data and print your results."
   ]
  },
  {
   "cell_type": "markdown",
   "metadata": {},
   "source": [
    "<h3 style=\"color:rgb(210,90,80)\">Code (10 points):</h3>"
   ]
  },
  {
   "cell_type": "code",
   "execution_count": 167,
   "metadata": {},
   "outputs": [],
   "source": [
    "import sklearn\n",
    "import numpy as np\n",
    "import pandas as pd\n",
    "import matplotlib.pyplot as plt\n",
    "from scipy.stats import multivariate_normal\n",
    "from mpl_toolkits.mplot3d import Axes3D\n",
    "import random"
   ]
  },
  {
   "cell_type": "code",
   "execution_count": 15,
   "metadata": {
    "scrolled": true
   },
   "outputs": [],
   "source": [
    "# read data, split into X (features) and y (labels)\n",
    "Z = np.genfromtxt('normal.csv', delimiter=',')\n",
    "X, y = Z[:,:-1], Z[:,-1]\n",
    "\n",
    "# your code here:"
   ]
  },
  {
   "cell_type": "code",
   "execution_count": 16,
   "metadata": {},
   "outputs": [
    {
     "data": {
      "image/png": "[encoded data removed]",
      "text/plain": [
       "<Figure size 432x288 with 1 Axes>"
      ]
     },
     "metadata": {
      "needs_background": "light"
     },
     "output_type": "display_data"
    }
   ],
   "source": [
    "scatter_x = X[:, 0]\n",
    "scatter_y = X[:, 1]\n",
    "\n",
    "cdict = {1: 'red', -1: 'blue'}\n",
    "fig, ax = plt.subplots()\n",
    "for g in np.unique(y):\n",
    "    ix = np.where(y == g)\n",
    "    ax.scatter(scatter_x[ix], scatter_y[ix], c = cdict[g], label = g, s = 100)\n",
    "ax.legend()\n",
    "plt.xlabel(\"Feature by the first column\")\n",
    "plt.ylabel(\"feature by the second column\")\n",
    "plt.show()"
   ]
  },
  {
   "cell_type": "code",
   "execution_count": 17,
   "metadata": {},
   "outputs": [
    {
     "name": "stdout",
     "output_type": "stream",
     "text": [
      "[-0.01993225  0.01101921]\n"
     ]
    }
   ],
   "source": [
    "# compute mean vector for each column \n",
    "mean_vec_col= X.mean(axis=0)\n",
    "print(mean_vec_col)"
   ]
  },
  {
   "cell_type": "code",
   "execution_count": 18,
   "metadata": {},
   "outputs": [
    {
     "data": {
      "text/plain": [
       "array([[4.29015165, 0.92392703],\n",
       "       [0.92392703, 6.13396341]])"
      ]
     },
     "execution_count": 18,
     "metadata": {},
     "output_type": "execute_result"
    }
   ],
   "source": [
    "# Covariance\n",
    "def cov(x, y):\n",
    "    xbar, ybar = x.mean(), y.mean()\n",
    "    return np.sum((x - xbar)*(y - ybar))/(len(x) - 1)\n",
    "\n",
    "# Covariance matrix\n",
    "def cov_mat(X):\n",
    "    return np.array([[cov(X[0], X[0]), cov(X[0], X[1])], \\\n",
    "                     [cov(X[1], X[0]), cov(X[1], X[1])]])\n",
    "\n",
    "# Calculate covariance matrix \n",
    "Cov_mat=cov_mat(X.T) # (or with np.cov(X.T))\n",
    "Cov_mat"
   ]
  },
  {
   "cell_type": "code",
   "execution_count": 19,
   "metadata": {},
   "outputs": [],
   "source": [
    "df = pd.DataFrame(Z)\n",
    "df_1 = pd.DataFrame(Z, columns = ['first', 'second', 'label'])"
   ]
  },
  {
   "cell_type": "code",
   "execution_count": 20,
   "metadata": {},
   "outputs": [],
   "source": [
    "# select rows with the condition for label (y==1)\n",
    "pos_num = df_1.loc[df_1['label'] ==1] "
   ]
  },
  {
   "cell_type": "code",
   "execution_count": 21,
   "metadata": {},
   "outputs": [],
   "source": [
    "# select rows with the condition for label (y== -1)\n",
    "neg_num = df_1.loc[df_1['label'] ==-1] "
   ]
  },
  {
   "cell_type": "code",
   "execution_count": 33,
   "metadata": {},
   "outputs": [
    {
     "name": "stdout",
     "output_type": "stream",
     "text": [
      "[-0.01520551 -0.01206552]\n"
     ]
    }
   ],
   "source": [
    "# compute the mean vector of pos_num (extracted rows from the given dataset with the condition of label(y==1))\n",
    "pos_num_select = pos_num[['first','second']]\n",
    "np_pos = pos_num_select.to_numpy()\n",
    "# compute the mean vectors for the extracted rows with the label (y==+1)\n",
    "mu_pos = np_pos.mean(axis=0)\n",
    "print(mu_pos)"
   ]
  },
  {
   "cell_type": "code",
   "execution_count": 34,
   "metadata": {},
   "outputs": [
    {
     "name": "stdout",
     "output_type": "stream",
     "text": [
      "[-0.02465899  0.03410394]\n"
     ]
    }
   ],
   "source": [
    "# compute the mean vector of ne_num (extracted rows from the given dataset with the condition of label(y==-1))\n",
    "neg_num_select = neg_num[['first','second']]\n",
    "np_neg = neg_num_select.to_numpy()\n",
    "# compute the mean vectors for the extracted rows with the label (y==-1)\n",
    "mu_neg = np_neg.mean(axis=0)\n",
    "print(mu_neg)"
   ]
  },
  {
   "cell_type": "code",
   "execution_count": 35,
   "metadata": {},
   "outputs": [
    {
     "data": {
      "text/plain": [
       "array([[8.35331773, 1.88490458],\n",
       "       [1.88490458, 0.90961867]])"
      ]
     },
     "execution_count": 35,
     "metadata": {},
     "output_type": "execute_result"
    }
   ],
   "source": [
    "# compute the covariance of the pos_num \n",
    "\n",
    "cov_mat_pos=cov_mat(np_pos.T)\n",
    "cov_mat_pos"
   ]
  },
  {
   "cell_type": "code",
   "execution_count": 36,
   "metadata": {},
   "outputs": [
    {
     "data": {
      "text/plain": [
       "array([[ 0.24128906, -0.0337415 ],\n",
       "       [-0.0337415 , 11.37775369]])"
      ]
     },
     "execution_count": 36,
     "metadata": {},
     "output_type": "execute_result"
    }
   ],
   "source": [
    "# compute the covariance of the neg_num \n",
    "\n",
    "cov_mat_neg=cov_mat(np_neg.T)\n",
    "cov_mat_neg"
   ]
  },
  {
   "cell_type": "code",
   "execution_count": 4,
   "metadata": {},
   "outputs": [],
   "source": [
    "def separate_by_class(dataset):\n",
    "    separated = dict()\n",
    "    for i in range(len(dataset)):\n",
    "        vector = dataset[i]\n",
    "        class_value = vector[-1]\n",
    "        if (class_value not in separated):\n",
    "            separated[class_value] = list()\n",
    "        separated[class_value].append(vector)\n",
    "    return separated\n",
    "\n",
    "# Calculate the mean of a list of numbers\n",
    "def mean(numbers):\n",
    "    return sum(numbers)/float(len(numbers))\n",
    " \n",
    "# Calculate the standard deviation of a list of numbers\n",
    "def stdev(numbers):\n",
    "    avg = mean(numbers)\n",
    "    variance = sum([(x-avg)**2 for x in numbers]) / float(len(numbers)-1)\n",
    "    return np.sqrt(variance)\n",
    " \n",
    "# Calculate the mean, stdev and count for each column in a dataset\n",
    "def summarize_dataset(dataset):\n",
    "    summaries = [(mean(column), stdev(column), len(column)) for column in zip(*dataset)]\n",
    "    del(summaries[-1])\n",
    "    return summaries\n",
    " \n",
    "# Split dataset by class then calculate statistics for each row\n",
    "def summarize_by_class(dataset):\n",
    "    separated = separate_by_class(dataset)\n",
    "    summaries = dict()\n",
    "    for class_value, rows in separated.items():\n",
    "        summaries[class_value] = summarize_dataset(rows)\n",
    "    return summaries"
   ]
  },
  {
   "cell_type": "code",
   "execution_count": 5,
   "metadata": {},
   "outputs": [],
   "source": [
    "def calculate_probability(x, mean, stdev):\n",
    "    exponent = np.exp(-((x-mean)**2 / (2 * stdev**2 )))\n",
    "    return (1 / (np.sqrt(2 * np.pi) * stdev)) * exponent\n",
    " "
   ]
  },
  {
   "cell_type": "code",
   "execution_count": 6,
   "metadata": {},
   "outputs": [],
   "source": [
    "def calculate_class_probabilities(summaries, row):\n",
    "    total_rows = sum([summaries[label][0][2] for label in summaries])\n",
    "    probabilities = dict()\n",
    "    for class_value, class_summaries in summaries.items():\n",
    "        probabilities[class_value] = summaries[class_value][0][2]/float(total_rows)\n",
    "        for i in range(len(class_summaries)):\n",
    "            mean, stdev, _ = class_summaries[i]\n",
    "            probabilities[class_value] *= calculate_probability(row[i], mean, stdev)\n",
    "    return probabilities"
   ]
  },
  {
   "cell_type": "code",
   "execution_count": 7,
   "metadata": {},
   "outputs": [
    {
     "name": "stdout",
     "output_type": "stream",
     "text": [
      "{1.0: 0.00295384534140166, -1.0: 1.1472094613671372e-18}\n"
     ]
    }
   ],
   "source": [
    "summaries = summarize_by_class(Z)\n",
    "probabilities = calculate_class_probabilities(summaries, Z[0])  # for testing the probability of the row \n",
    "print(probabilities)"
   ]
  },
  {
   "cell_type": "code",
   "execution_count": 62,
   "metadata": {},
   "outputs": [],
   "source": [
    "prob = list(probabilities.values())\n",
    "probability_pos = prob[0]\n",
    "probability_neg = prob[1]"
   ]
  },
  {
   "cell_type": "markdown",
   "metadata": {},
   "source": [
    "<h2 style=\"color:rgb(0,120,170)\">Task 2: Gaussian classifier: compute classifier & visualization</h2>\n",
    "\n",
    "* Compute an optimal classification function $g$ (see slide 17 from lectures Unit 2) by calculating the values of the corresponding parameters $\\mathbf{A}$, $\\mathbf{b}$ and $c$. Print the solutions. \n",
    "* Visualize the classification function and the decision boundaries in a two-dimensional plot.\n"
   ]
  },
  {
   "cell_type": "markdown",
   "metadata": {},
   "source": [
    "<h3 style=\"color:rgb(210,90,80)\">Code (20 points):</h3>"
   ]
  },
  {
   "cell_type": "code",
   "execution_count": null,
   "metadata": {},
   "outputs": [],
   "source": []
  },
  {
   "cell_type": "code",
   "execution_count": null,
   "metadata": {},
   "outputs": [],
   "source": [
    "boundary_func(first_feature,y, cov_mat_pos,cov_mat_neg, mu_pos, mu_neg, probability_pos,probability_neg))"
   ]
  },
  {
   "cell_type": "code",
   "execution_count": 92,
   "metadata": {},
   "outputs": [],
   "source": [
    "def boundary_func(x, y, cov_mat_pos, cov_mat_neg, mu_vec_pos, mu_vec_neg, probability_pos,probability_neg):\n",
    "    \n",
    "    x_vec = np.array([[x],[y]])\n",
    " \n",
    "    W_positive = np.linalg.inv(cov_mat_pos)\n",
    "    assert(W_positive.shape[0] > 1 and W_positive.shape[1] > 1), 'W_i must be a matrix'\n",
    "\n",
    "    W_negative = np.linalg.inv(cov_mat_neg)\n",
    "    assert(W_negative.shape[0] > 1 and W_negative.shape[1] > 1), 'W_i must be a matrix'\n",
    "    \n",
    "    omega_i_p1_positive = (((-1/2) * (mu_vec_pos).T).dot(np.linalg.inv(cov_mat_pos))).dot(mu_vec_pos)\n",
    "    omega_i_p2_positive = (-1/2) * np.log(np.linalg.det(cov_mat_pos))\n",
    "    omega_i_p1_negative = (((-1/2) * (mu_vec_neg).T).dot(np.linalg.inv(cov_mat_neg))).dot(mu_vec_neg)\n",
    "    omega_i_p2_negative = (-1/2) * np.log(np.linalg.det(cov_mat_neg))\n",
    "\n",
    "    \n",
    "    A = W_positive - W_negative\n",
    "    \n",
    "    b = (((mu_vec_pos.T)).dot(np.linalg.inv(cov_mat_pos))) - (((mu_vec_neg.T)).dot(np.linalg.inv(cov_mat_neg)))\n",
    "\n",
    "    c = omega_i_p1_positive + omega_i_p1_negative  + omega_i_p2_positive + omega_i_p2_negative + np.log(probability_pos) + np.log(probability_neg)\n",
    "\n",
    "    g = (-1/2)*(((x_vec).dot(A)).dot(x_vec.T)) + (b).dot(x_vec.T) + c\n",
    "    \n",
    "    return float(g)"
   ]
  },
  {
   "cell_type": "code",
   "execution_count": null,
   "metadata": {},
   "outputs": [],
   "source": [
    "boundary_func(first_feature,y, cov_mat_pos,cov_mat_neg, mu_pos, mu_neg, probability_pos,probability_neg))"
   ]
  },
  {
   "cell_type": "code",
   "execution_count": 78,
   "metadata": {},
   "outputs": [
    {
     "data": {
      "text/plain": [
       "1.1472094613671372e-18"
      ]
     },
     "execution_count": 78,
     "metadata": {},
     "output_type": "execute_result"
    }
   ],
   "source": [
    " x_vec = np.vstack((x,y))\n",
    "    \n",
    "    W_positive = np.linalg.inv(cov_mat_pos)\n",
    "    assert(W_positive.shape[0] > 1 and W_positive.shape[1] > 1), 'W_i must be a matrix'\n",
    "\n",
    "    W_negative = np.linalg.inv(cov_mat_neg)\n",
    "    assert(W_negative.shape[0] > 1 and W_negative.shape[1] > 1), 'W_i must be a matrix'\n",
    "    \n",
    "    omega_i_p1_positive = (((-1/2) * (mu_vec_pos).T).dot(np.linalg.inv(cov_mat_pos))).dot(mu_vec_pos)\n",
    "    omega_i_p2_positive = (-1/2) * np.log(np.linalg.det(cov_mat_pos))\n",
    "    omega_i_p1_negative = (((-1/2) * (mu_vec_neg).T).dot(np.linalg.inv(cov_mat_neg))).dot(mu_vec_neg)\n",
    "    omega_i_p2_negative = (-1/2) * np.log(np.linalg.det(cov_mat_neg))\n",
    "\n",
    "    \n",
    "    A = W_positive - W_negative\n",
    "    \n",
    "    b = (((mu_vec_pos.T)).dot(np.linalg.inv(cov_mat_pos))) - (((mu_vec_neg.T)).dot(np.linalg.inv(cov_mat_neg)))\n",
    "\n",
    "    c = omega_i_p1_positive + omega_i_p1_negative  + omega_i_p2_positive + omega_i_p2_negative + np.log(probability_pos) + np.log(probability_neg)\n",
    "\n",
    "    g = (-1/2)*(((x_vec).dot(A)).dot(x_vec.T)) + (b).dot(x_vec.T) + c"
   ]
  },
  {
   "cell_type": "code",
   "execution_count": null,
   "metadata": {},
   "outputs": [],
   "source": []
  },
  {
   "cell_type": "code",
   "execution_count": null,
   "metadata": {},
   "outputs": [],
   "source": []
  },
  {
   "cell_type": "code",
   "execution_count": null,
   "metadata": {},
   "outputs": [],
   "source": []
  },
  {
   "cell_type": "code",
   "execution_count": 83,
   "metadata": {},
   "outputs": [
    {
     "ename": "ValueError",
     "evalue": "shapes (2,600) and (2,2) not aligned: 600 (dim 1) != 2 (dim 0)",
     "output_type": "error",
     "traceback": [
      "\u001b[1;31m---------------------------------------------------------------------------\u001b[0m",
      "\u001b[1;31mValueError\u001b[0m                                Traceback (most recent call last)",
      "\u001b[1;32m<ipython-input-83-d7940b320704>\u001b[0m in \u001b[0;36m<module>\u001b[1;34m\u001b[0m\n\u001b[1;32m----> 1\u001b[1;33m \u001b[0mfnc\u001b[0m \u001b[1;33m=\u001b[0m \u001b[0mboundary_func\u001b[0m\u001b[1;33m(\u001b[0m\u001b[0mfirst_feature\u001b[0m\u001b[1;33m,\u001b[0m\u001b[0my\u001b[0m\u001b[1;33m,\u001b[0m \u001b[0mcov_mat_pos\u001b[0m\u001b[1;33m,\u001b[0m\u001b[0mcov_mat_neg\u001b[0m\u001b[1;33m,\u001b[0m \u001b[0mmu_pos\u001b[0m\u001b[1;33m,\u001b[0m \u001b[0mmu_neg\u001b[0m\u001b[1;33m,\u001b[0m \u001b[0mprobability_pos\u001b[0m\u001b[1;33m,\u001b[0m\u001b[0mprobability_neg\u001b[0m\u001b[1;33m)\u001b[0m\u001b[1;33m\u001b[0m\u001b[1;33m\u001b[0m\u001b[0m\n\u001b[0m",
      "\u001b[1;32m<ipython-input-82-075a0529d68d>\u001b[0m in \u001b[0;36mboundary_func\u001b[1;34m(x, y, cov_mat_pos, cov_mat_neg, mu_vec_pos, mu_vec_neg, probability_pos, probability_neg)\u001b[0m\n\u001b[0;32m     21\u001b[0m     \u001b[0mc\u001b[0m \u001b[1;33m=\u001b[0m \u001b[0momega_i_p1_positive\u001b[0m \u001b[1;33m+\u001b[0m \u001b[0momega_i_p1_negative\u001b[0m  \u001b[1;33m+\u001b[0m \u001b[0momega_i_p2_positive\u001b[0m \u001b[1;33m+\u001b[0m \u001b[0momega_i_p2_negative\u001b[0m \u001b[1;33m+\u001b[0m \u001b[0mnp\u001b[0m\u001b[1;33m.\u001b[0m\u001b[0mlog\u001b[0m\u001b[1;33m(\u001b[0m\u001b[0mprobability_pos\u001b[0m\u001b[1;33m)\u001b[0m \u001b[1;33m+\u001b[0m \u001b[0mnp\u001b[0m\u001b[1;33m.\u001b[0m\u001b[0mlog\u001b[0m\u001b[1;33m(\u001b[0m\u001b[0mprobability_neg\u001b[0m\u001b[1;33m)\u001b[0m\u001b[1;33m\u001b[0m\u001b[1;33m\u001b[0m\u001b[0m\n\u001b[0;32m     22\u001b[0m \u001b[1;33m\u001b[0m\u001b[0m\n\u001b[1;32m---> 23\u001b[1;33m     \u001b[0mg\u001b[0m \u001b[1;33m=\u001b[0m \u001b[1;33m(\u001b[0m\u001b[1;33m-\u001b[0m\u001b[1;36m1\u001b[0m\u001b[1;33m/\u001b[0m\u001b[1;36m2\u001b[0m\u001b[1;33m)\u001b[0m\u001b[1;33m*\u001b[0m\u001b[1;33m(\u001b[0m\u001b[1;33m(\u001b[0m\u001b[1;33m(\u001b[0m\u001b[0mx_vec\u001b[0m\u001b[1;33m)\u001b[0m\u001b[1;33m.\u001b[0m\u001b[0mdot\u001b[0m\u001b[1;33m(\u001b[0m\u001b[0mA\u001b[0m\u001b[1;33m)\u001b[0m\u001b[1;33m)\u001b[0m\u001b[1;33m.\u001b[0m\u001b[0mdot\u001b[0m\u001b[1;33m(\u001b[0m\u001b[0mx_vec\u001b[0m\u001b[1;33m.\u001b[0m\u001b[0mT\u001b[0m\u001b[1;33m)\u001b[0m\u001b[1;33m)\u001b[0m \u001b[1;33m+\u001b[0m \u001b[1;33m(\u001b[0m\u001b[0mb\u001b[0m\u001b[1;33m)\u001b[0m\u001b[1;33m.\u001b[0m\u001b[0mdot\u001b[0m\u001b[1;33m(\u001b[0m\u001b[0mx_vec\u001b[0m\u001b[1;33m.\u001b[0m\u001b[0mT\u001b[0m\u001b[1;33m)\u001b[0m \u001b[1;33m+\u001b[0m \u001b[0mc\u001b[0m\u001b[1;33m\u001b[0m\u001b[1;33m\u001b[0m\u001b[0m\n\u001b[0m\u001b[0;32m     24\u001b[0m \u001b[1;33m\u001b[0m\u001b[0m\n\u001b[0;32m     25\u001b[0m     \u001b[1;32mreturn\u001b[0m \u001b[0mfloat\u001b[0m\u001b[1;33m(\u001b[0m\u001b[0mg\u001b[0m\u001b[1;33m)\u001b[0m\u001b[1;33m\u001b[0m\u001b[1;33m\u001b[0m\u001b[0m\n",
      "\u001b[1;31mValueError\u001b[0m: shapes (2,600) and (2,2) not aligned: 600 (dim 1) != 2 (dim 0)"
     ]
    }
   ],
   "source": [
    "fnc = boundary_func(first_feature,y, cov_mat_pos,cov_mat_neg, mu_pos, mu_neg, probability_pos,probability_neg)"
   ]
  },
  {
   "cell_type": "code",
   "execution_count": 45,
   "metadata": {},
   "outputs": [
    {
     "data": {
      "text/plain": [
       "1.1472094613671372e-18"
      ]
     },
     "execution_count": 45,
     "metadata": {},
     "output_type": "execute_result"
    }
   ],
   "source": [
    "prob[1]"
   ]
  },
  {
   "cell_type": "markdown",
   "metadata": {},
   "source": [
    "<h2 style=\"color:rgb(0,120,170)\">Task 3: Level curves of Gaussian density </h2>\n",
    "\n",
    "In the lecture we mentioned that the level curves of the density for a multivariate Gauss distribution are ellipses. Prove this fact for dimensions $d=2$ for two independent Gaussians with means $\\mu_1$, $\\mu_2$ and variances $\\sigma_1^2$, $\\sigma_2^2$. Hints: \n",
    "* The joint density is given as $p(x_1,x_2)=\\frac{1}{2\\pi\\, \\sigma_1 \\sigma_2}\\,\\exp\\left(-\\frac{(x_1-\\mu_1)^2}{2\\sigma_1^2}-\\frac{(x_2-\\mu_2)^2}{2\\sigma_2^2}\\right)$\n",
    "* For each $c \\geq 0$ the collection of $(x_1,x_2)$ that solve $p(x_1,x_2)=c$ is called the level set of $p$ for the level $c$.\n",
    "* An ellipsis in $d=2$ with center $(m_1,m_2)$ is given by the equation $\\frac{(x_1-m_1)^2}{a^2}+\\frac{(x_2-m_2)^2}{b^2}=1$ for some $a,b \\in \\mathbb{R}$. Try to bring $p(x_1,x_2)=c$ into this form.\n",
    "\n",
    "For your calculation use the same notation as in the hints above."
   ]
  },
  {
   "cell_type": "markdown",
   "metadata": {},
   "source": [
    "Since it considers that n=2 and the covariance matrix $\\sum_{}^{}$ ia diagona. \n",
    "then, we have\n",
    "\n",
    "$$ x = \\begin{bmatrix} x_{1} \\\\ x_{2} \\end{bmatrix}$$  $$ \\mu = \\begin{bmatrix} \\mu_{1} \\\\ \\mu_{2} \\end{bmatrix}$$  \n",
    "$$ \\sum_{}^{} = \\begin{bmatrix} \\sigma^2_{1} & 0 \\\\ \\sigma^2_{2} & 0 \\end{bmatrix}$$ \n",
    "\n",
    "And then as we know that the joint density is as below:\n",
    "\n",
    "$p(x_1,x_2)=\\frac{1}{2\\pi\\, \\sigma_1 \\sigma_2}\\,\\exp\\left(-\\frac{(x_1-\\mu_1)^2}{2\\sigma_1^2}-\\frac{(x_2-\\mu_2)^2}{2\\sigma_2^2}\\right)$\n",
    "\n",
    "\n",
    "Now we consider the level set consisting of all points where $p(x_1,x_2)=c$ for some constant where c in real number set. And consider the set of all $$x_{1},x_{2} \\in R$$ such that\n",
    "\n",
    "$$ c = \\frac{1}{2\\pi\\, \\sigma_1 \\sigma_2}\\,\\exp\\left(-\\frac{(x_1-\\mu_1)^2}{2\\sigma_1^2}-\\frac{(x_2-\\mu_2)^2}{2\\sigma_2^2}\\right)$$\n",
    "\n",
    "$$ {2\\pi\\,c\\sigma_1 \\sigma_2} = \\exp\\left(-\\frac{(x_1-\\mu_1)^2}{2\\sigma_1^2}-\\frac{(x_2-\\mu_2)^2}{2\\sigma_2^2}\\right)$$\n",
    "\n",
    "$$ \\log({2\\pi\\,c \\sigma_1 \\sigma_2}) = -\\frac{(x_1-\\mu_1)^2}{2\\sigma_1^2}+ \\frac{(x_2-\\mu_2)^2}{2\\sigma_2^2}$$\n",
    "\n",
    "\n",
    "$$log\\left( \\frac{1}{2\\pi\\,c \\sigma_1 \\sigma_2} \\right) = \\frac{(x_1-\\mu_1)^2}{2\\sigma_1^2}+\\frac{(x_2-\\mu_2)^2}{2\\sigma_2^2}$$\n",
    "\n",
    "$$ 1 = \\frac{(x_1-\\mu_1)^2}{2\\sigma_1^2\\log\\left( \\frac{1}{2\\pi\\,c \\sigma_1 \\sigma_2} \\right)}+\\frac{(x_2-\\mu_2)^2}{2\\sigma_2^2\\log\\left( \\frac{1}{2\\pi\\,c \\sigma_1 \\sigma_2} \\right)}$$\n",
    "\n",
    "So, let's replace $$r_{i}= \\sqrt{{2\\sigma_i^2\\log\\left( \\frac{1}{2\\pi\\,c \\sigma_i \\sigma_i} \\right)}}$$\n",
    "\n",
    "Therefore, the given eqaution can be written as \n",
    "\n",
    "$$1= \\left( \\frac{x_1-\\mu_1}{r_1}^2 \\right) + \\left( \\frac{x_2-\\mu_2}{r_2}^2 \\right)$$\n",
    "\n",
    "This equation is an axis-aligned ellipse where its center $(\\mu_1,\\mu_2)$"
   ]
  },
  {
   "cell_type": "markdown",
   "metadata": {},
   "source": [
    "<h3 style=\"color:rgb(210,90,80)\">Calculation (10 points):</h3>"
   ]
  },
  {
   "cell_type": "markdown",
   "metadata": {},
   "source": [
    "<h2 style=\"color:rgb(0,120,170)\">Task 4: Details for bias-variance decomposition for quadratic loss </h2>\n",
    "\n",
    "Also an explicit formula of the bias variance decomposition for the quadratic loss was mentioned in the lecture. In this task, you will be asked to fill in some details that haven't been discussed there. To this end, let us introduce some notation:\n",
    "\n",
    "$Z_l$ denotes a data matrix of $l$ elements from our data set $Z =(X,\\mathbf{y})$ with $X$ the feature matrix and $\\mathbf{y}$ the label vector. $g(\\mathbf{x}_0;\\mathbf{w}(Z_l)))$ denotes the model, with a parameter vector $\\mathbf{w}(Z_l)$ originating from $Z_l$, and $y$ is the label corresponding to a feature vector $\\mathbf{x}_0$. \n",
    "\n",
    "Our object of interest is the expected prediction error (EPE) for\n",
    "$\\mathbf{x}_0\\in X$ in case of the quadratic loss, i.e.:\n",
    "\n",
    "$$\\mathrm{EPE}(\\mathbf{x}_0) = \\mathrm{E}_{y\\mid\n",
    "\\mathbf{x}_0,Z_l}\\big(L_{\\mathbf{q}}(y,g(\\mathbf{x}_0;\\mathbf{w}(Z_l)))\\big)\n",
    "= \\mathrm{E}_{y\\mid\n",
    "\\mathbf{x}_0,Z_l}\\big((y-g(\\mathbf{x}_0;\\mathbf{w}(Z_l)))^2\\big)$$\n",
    "\n",
    "We assume that $y\\mid\\mathbf{x}_0$ and the selection of training samples $Z_l$ are\n",
    "independent which results in the following reformulation of the total expected prediction error:\n",
    "\n",
    "$$\\mathrm{EPE}(\\mathbf{x}_0) = \\mathrm{E}_{y\\mid\n",
    "\\mathbf{x}_0}\\Big(\\mathrm{E}_{Z_l}\\big((y-g(\\mathbf{x}_0;\\mathbf{w}(Z_l)))^2\\big)\\Big)$$\n",
    "\n",
    "Show that we can obtain the following bias-variance decomposition:\n",
    "\n",
    "\\begin{align*}\n",
    "\\mathrm{EPE}(\\mathbf{x}_0)=&\\,\\operatorname{Var}(y\\mid\\mathbf{x}_0)\\\\\n",
    "&+\\Big(\\mathrm{E}_{y\\mid\\mathbf{x}_0}(y)-E_{Z_l}\\big(g(\\mathbf{x}_0;\\mathbf{w}(Z_l))\\big)\\Big)^2\\\\\n",
    "&+\\mathrm{E}_{Z_l}\\Big(\\big(g(\\mathbf{x}_0;\\mathbf{w}(Z_l))-E_{Z_l}(g(\\mathbf{x}_0;\\mathbf{w}(Z_l)))\\big)^2\\Big)\n",
    "\\end{align*}\n",
    "Hints: \n",
    "* Expand the square in the quardratic loss and the expressions from the three parts of the decompositon you want to obtain.\n",
    "* Find a way to match those expressions.\n",
    "* It might be useful to recall that $\\mathrm{E}(\\mathrm{E}(v))=\\mathrm{E}(v)$ for any random variable $v$.\n",
    "\n",
    "For your calculation please use the given notation."
   ]
  },
  {
   "cell_type": "markdown",
   "metadata": {},
   "source": [
    "As the quadratic loss function is $$ \\mathrm{E}_{Z_l}\\big((y-g(\\mathbf{x}_0;\\mathbf{w}(Z_l)^2)\\big)$$\n",
    "\n",
    "and this equation can be written as the below because $\\epsilon$ and $(g(\\mathbf{};\\mathbf{w}(Z_l)))$ are independent\n",
    "\n",
    "$$\\mathrm{E}_{Z_l}\\big((y-\\epsilon-g(\\mathbf{x}_0;\\mathbf{w}(Z_l)^2)\\big)$$ where $ y= f+\\epsilon$ and \n",
    "\n",
    "$$ \\mathrm{E}_{Z_l}\\big(y-g(\\mathbf{};\\mathbf{w}(Z_l))^2) = \\mathrm{E}_{Z_l}\\big(f+\\epsilon - g(\\mathbf{};\\mathbf{w}(Z_l)^2)$$\n",
    "\n",
    "$$ \\mathrm{E}_{Z_l}\\big(y-g(\\mathbf{};\\mathbf{w}(Z_l))^2) = \\mathrm{E}_{Z_l}\\big(f +\\epsilon - g(\\mathbf{};\\mathbf{w}(Z_l)) + \\mathrm{E}_{Z_l}\\big(g(\\mathbf{};\\mathbf{w}(Z_l)) - \\mathrm{E}_{Z_l}\\big(g(\\mathbf{};\\mathbf{w}(Z_l))^2) $$\n",
    "\n",
    "\n",
    "$$ \\mathrm{E}_{Z_l}\\big(y-g(\\mathbf{};\\mathbf{w}(Z_l))^2) = \\mathrm{E}_{Z_l}\\Big(\\big(f- \\mathrm{E}_{Z_l}\\big(g(\\mathbf{};\\mathbf{w}(Z_l)))^2\\Big) + \\mathrm{E}_{Z_l}\\big(\\epsilon^2\\big) + \\mathrm{E}_{Z_l}\\Big(\\mathrm{E}_{Z_l}\\big(g(\\mathbf{};\\mathbf{w}(Z_l))\\big)-g(\\mathbf{};\\mathbf{w}(Z_l)))^2\\Big) +2\\mathrm{E}_{Z_l}\\Big(f-\\mathrm{E}_{Z_l}\\big(g(\\mathbf{};\\mathbf{w}(Z_l))\\big)\\epsilon\\Big) + 2\\mathrm{E}_{Z_l}\\Big(\\epsilon\\big(\\mathrm{E}_{Z_l}\\big(g(\\mathbf{};\\mathbf{w}(Z_l))\\big)-g(\\mathbf{};\\mathbf{w}(Z_l))\\big)\\Big) +2\\mathrm{E}_{Z_l}\\Big(\\big(\\mathrm{E}_{Z_l}\\big(g(\\mathbf{};\\mathbf{w}(Z_l))\\big)-g(\\mathbf{};\\mathbf{w}(Z_l))\\big)\\big(f -\\mathrm{E}_{Z_l}\\big(g(\\mathbf{};\\mathbf{w}(Z_l))\\big) $$\n",
    "\n",
    "\n",
    "then, \n",
    "\n",
    "$$ \\mathrm{E}_{Z_l}\\big(y-g(\\mathbf{};\\mathbf{w}(Z_l))^2) = \\Big(f - \\mathrm{E}_{Z_l}\\big(g(\\mathbf{};\\mathbf{w}(Z_l))\\big)\\Big)^2 + \\mathrm{E}_{Z_l}\\big(\\epsilon^2) + \\mathrm{E}_{Z_l}\\Big(\\big(\\mathrm{E}_{Z_l}\\big(g(\\mathbf{};\\mathbf{w}(Z_l))\\big) - g(\\mathbf{};\\mathbf{w}(Z_l))\\big)^2\\Big) +2\\big(f - \\mathrm{E}_{Z_l}\\big(g(\\mathbf{};\\mathbf{w}(Z_l))\\big)\\mathrm{E}_{Z_l}\\big(\\epsion\\big) +2\\mathrm{E}_{Z_l}\\big(\\epsilon\\big)\\mathrm{E}_{Z_l}\\Big(\\mathrm{E}_{Z_l}\\big(g(\\mathbf{};\\mathbf{w}(Z_l))\\big) - g(\\mathbf{};\\mathbf{w}(Z_l))\\Big) +2\\mathrm{E}_{Z_l}\\Big(\\mathrm{E}_{Z_l}\\big(g(\\mathbf{};\\mathbf{w}(Z_l))\\big)-g(\\mathbf{};\\mathbf{w}(Z_l))\\Big)\\big(f -\\mathrm{E}_{Z_l}\\big(g(\\mathbf{};\\mathbf{w}(Z_l))\\big)\\Big) $$\n",
    "\n",
    "\n",
    "$$ \\mathrm{E}_{Z_l}\\big(y-g(\\mathbf{};\\mathbf{w}(Z_l))^2) = \\big(f -\\mathrm{E}_{Z_l}\\big(g(\\mathbf{};\\mathbf{w}(Z_l))\\big)\\Big)^2 + \\mathrm{E}_{Z_l}\\big(\\epsilon^2\\big)+\\mathrm{E}_{Z_l}\\Big(\\mathrm{E}_{Z_l}\\big(g(\\mathbf{};\\mathbf{w}(Z_l)) - g(\\mathbf{};\\mathbf{w}(Z_l))\\big)^2\\Big) $$\n",
    "\n",
    "\n",
    "$$ \\mathrm{E}_{Z_l}\\big(y-g(\\mathbf{};\\mathbf{w}(Z_l))^2) = \\Big(f-\\mathrm{E}_{Z_l}\\big(g(\\mathbf{};\\mathbf{w}(Z_l))\\big)\\Big)^2 +Var\\big(y) +Var\\Big(g(\\mathbf{};\\mathbf{w}(Z_l))) $$ \n",
    "\n",
    "$$ \\mathrm{E}_{Z_l}\\big(y-g(\\mathbf{};\\mathbf{w}(Z_l))^2) = Bias\\big( g(\\mathbf{};\\mathbf{w}(Z_l))\\big)^2 +Var\\big(y\\big) +Var\\big(g(\\mathbf{};\\mathbf{w}(Z_l))\\big)$$\n",
    "\n"
   ]
  },
  {
   "cell_type": "markdown",
   "metadata": {},
   "source": [
    "<h3 style=\"color:rgb(210,90,80)\">Calculation (15 points):</h3>"
   ]
  },
  {
   "cell_type": "markdown",
   "metadata": {},
   "source": [
    "<h2 style=\"color:rgb(0,120,170)\">Task 5: Bias-variance decomposition for regression </h2>"
   ]
  },
  {
   "cell_type": "markdown",
   "metadata": {},
   "source": [
    "<h3 style=\"color:rgb(210,90,80)\">Question (5 points):</h3>\n",
    "\n",
    "Consider the following one-dimensional regression task: inputs $x$ are\n",
    "uniformly distributed in $[−1, 3] \\subset \\mathbb{R}$ and targets $y$ are given as\n",
    "\n",
    "\\begin{align*}\n",
    "f(x) &= 0.6\\,x^4 + 2\\,x^3 - 8\\,x^2 \\\\\n",
    "y &= f(x) + \\varepsilon,\n",
    "\\end{align*}\n",
    "\n",
    "where $\\varepsilon$ is independent normally distributied noise with $\\mu=0$ and $\\sigma^2 = 0.09$. \n",
    "\n",
    "* What are $E(y \\mid x_0)$ and the unavoidable error $\\operatorname{Var}(y \\mid x_0)$ for a fixed $x_0$ in this setting?\n",
    "\n",
    "Tick the correct box:\n",
    "\n",
    "\\[ V \\]  $E(y \\mid x_0) = 0.6x_0^4 + 2x_0^3 - 8x_0^2 \\text{ and }\\operatorname{Var}(y \\mid x_0) = \\sigma^2$. <br>\n",
    "\\[  \\]   $E(y \\mid x_0) = 0.6\\sigma^4 + 2\\sigma^3 - 8\\sigma^2 \\text{    and    } \\operatorname{Var}(y \\mid x_0) = x_0^2$. <br>\n",
    "\\[  \\]   $E(y \\mid x_0) = 0 \\text{ and }  \\operatorname{Var}(y \\mid x_0) = \\sigma^2$. <br>\n",
    "\\[  \\]   $E(y \\mid x_0) = 0.6x_0^4 + 2x_0^3 - 8x_0^2 \\text{    and    } \\operatorname{Var}(y \\mid x_0) = 0.6x_0^4 + 2x_0^3 - 8x_0^2+\\sigma^2$.<br>\n"
   ]
  },
  {
   "cell_type": "markdown",
   "metadata": {},
   "source": [
    "We intend to perform polynomial regression to illustrate the bias-variance decomposition for the regression task described before. To this end, perform the following steps.\n",
    " * Create $k=200$ training sets with $l=20$ samples each.\n",
    " * Below, we provide the code for a function that trains a polynomial regression model with degree $m$ on a given training set and returns the prediction for a given test set.\n",
    " Use this function to produce <em>one</em> plot that simultaneously visualizes the training data as dots (plot only the <em>first</em> instance of each of the $l$ training sets) and the corresponding models for $m=1,4,11$. Don't forget to label the axes.\n",
    " 3. For each degree $m=1,...,11$ estimate the squared bias and the variance from the predictions for each of the $k=200$ training sets at $x_0=1.8$ and store them in the lists sqbias and variance (which are already initiated as empty lists). Each of the lists should then only contain $11$ elements. Print these lists. Finally visualize your results in <em>one</em> plot where the dependence of the variance and squared bias versus $m$ is shown. Again, the axes should be labeled apporopriately."
   ]
  },
  {
   "cell_type": "markdown",
   "metadata": {},
   "source": [
    "<h3 style=\"color:rgb(210,90,80)\">Code (30 points):</h3>"
   ]
  },
  {
   "cell_type": "code",
   "execution_count": 130,
   "metadata": {},
   "outputs": [],
   "source": [
    "from sklearn.linear_model import LinearRegression\n",
    "from sklearn.preprocessing import PolynomialFeatures\n",
    "\n",
    "#some code that should help you\n",
    "\n",
    "np.random.seed(14)\n",
    "x0 = np.array([1.8])\n",
    "sqbias = []\n",
    "variance = []\n",
    "\n",
    "def pol_reg_pred(X_train,y_train,X_test,m):\n",
    "    poly_reg = PolynomialFeatures(m)\n",
    "    X_poly_train = poly_reg.fit_transform(X_train.reshape(-1, 1))\n",
    "    X_poly_test= poly_reg.fit_transform(X_test.reshape(-1, 1))\n",
    "    lin_reg = LinearRegression()\n",
    "    lin_reg.fit(X_poly_train, y_train)\n",
    "    y_pred = lin_reg.predict(X_poly_test)\n",
    "    return y_pred\n",
    "\n",
    "# your code here:"
   ]
  },
  {
   "cell_type": "code",
   "execution_count": 197,
   "metadata": {},
   "outputs": [],
   "source": [
    "num_dataset =200\n",
    "samples =20\n",
    "mu =0.0\n",
    "sigma = np.sqrt(0.09)\n",
    "\n",
    "uniform_data = np.random.uniform(-1,3,(samples,num_dataset))"
   ]
  },
  {
   "cell_type": "code",
   "execution_count": 219,
   "metadata": {},
   "outputs": [
    {
     "data": {
      "text/plain": [
       "(20, 200)"
      ]
     },
     "execution_count": 219,
     "metadata": {},
     "output_type": "execute_result"
    }
   ],
   "source": [
    "uniform_data.shape"
   ]
  },
  {
   "cell_type": "code",
   "execution_count": null,
   "metadata": {},
   "outputs": [],
   "source": []
  },
  {
   "cell_type": "code",
   "execution_count": 220,
   "metadata": {},
   "outputs": [],
   "source": [
    "def function (x,mu,sigma):\n",
    "    \n",
    "    expect = 0.6*x**4+2*x**3-8*x**2\n",
    "    true_value = expect + np.random.normal(mu, sigma)\n",
    "    \n",
    "    return true_value"
   ]
  },
  {
   "cell_type": "code",
   "execution_count": 222,
   "metadata": {},
   "outputs": [],
   "source": [
    "result = np.zeros((20, 200))\n",
    "\n",
    "for i in range (num_dataset):\n",
    "    \n",
    "    for j in range (samples):\n",
    "        \n",
    "        input = np.random.uniform(-1,3)\n",
    "        outcome = function(input, mu, sigma)\n",
    "        result[j,i] = outcome \n",
    "        \n",
    "        "
   ]
  },
  {
   "cell_type": "code",
   "execution_count": 223,
   "metadata": {},
   "outputs": [
    {
     "data": {
      "text/plain": [
       "(20, 200)"
      ]
     },
     "execution_count": 223,
     "metadata": {},
     "output_type": "execute_result"
    }
   ],
   "source": [
    "result.shape"
   ]
  },
  {
   "cell_type": "code",
   "execution_count": 347,
   "metadata": {},
   "outputs": [],
   "source": [
    "def run_fnc (degree):\n",
    "    \n",
    "    predicted_list = np.zeros((1,200))\n",
    "\n",
    "    for col in range (0,200):\n",
    "    \n",
    "        if col == 0:\n",
    "            x_train = uniform_data[:,col]\n",
    "            y_train = result[:,col]\n",
    "            x_test  = uniform_data[:,-1]\n",
    "            predict_value = pol_reg_pred(x_train,y_train,x_test,degree)\n",
    "            predicted_list[:,-1] = predict_value\n",
    "        \n",
    "        else:\n",
    "            x_train = uniform_data[:,col]\n",
    "            y_train = result[:,col]\n",
    "            x_test  = uniform_data[:,col-1]\n",
    "            predict_value = pol_reg_pred(x_train,y_train,x_test,degree)\n",
    "            predicted_list[:,col-1] = predict_value\n",
    "            \n",
    "    return predicted_list"
   ]
  },
  {
   "cell_type": "code",
   "execution_count": 348,
   "metadata": {},
   "outputs": [],
   "source": [
    "predicted_list_1 = run_fnc(1)\n",
    "predicted_list_4 = run_fnc(4)\n",
    "predicted_list_11= run_fnc(11)\n"
   ]
  },
  {
   "cell_type": "code",
   "execution_count": 392,
   "metadata": {},
   "outputs": [],
   "source": [
    "predicted_list_1_first_row = list(range(0,200))\n",
    "predicted_list_4_first_row = list(range(0,200))\n",
    "predicted_list_11_first_row = list(range(0,200))\n",
    "for i in range(0,200):\n",
    "    \n",
    "    predicted_list_1_first_row[i] = predicted_list_1[0][i]\n",
    "    predicted_list_4_first_row[i] = predicted_list_4[0][i]\n",
    "    predicted_list_11_first_row[i] =predicted_list_11[0][i]"
   ]
  },
  {
   "cell_type": "code",
   "execution_count": 430,
   "metadata": {},
   "outputs": [],
   "source": [
    "df_1 = pd.DataFrame(np.array(predicted_list_1_first_row).reshape(200,1))\n",
    "df_1.columns =['1']"
   ]
  },
  {
   "cell_type": "code",
   "execution_count": 431,
   "metadata": {},
   "outputs": [],
   "source": [
    "df_2 = pd.DataFrame(np.array(predicted_list_4_first_row).reshape(200,1))\n",
    "df_2.columns =['4']"
   ]
  },
  {
   "cell_type": "code",
   "execution_count": 432,
   "metadata": {},
   "outputs": [],
   "source": [
    "df_3 = pd.DataFrame(np.array(predicted_list_11_first_row).reshape(200,1),)\n",
    "df_3.columns =['11']"
   ]
  },
  {
   "cell_type": "code",
   "execution_count": 433,
   "metadata": {},
   "outputs": [],
   "source": [
    "df_rows = pd.concat([df_1, df_2,df_3], axis=1)"
   ]
  },
  {
   "cell_type": "code",
   "execution_count": 460,
   "metadata": {},
   "outputs": [
    {
     "data": {
      "image/png": "[encoded data removed]",
      "text/plain": [
       "<Figure size 1440x720 with 1 Axes>"
      ]
     },
     "metadata": {
      "needs_background": "light"
     },
     "output_type": "display_data"
    }
   ],
   "source": [
    "ax = df_rows['1'].plot(style=\".\", markevery=5, figsize=(20,10))\n",
    "df_rows['4'].plot(ax=ax)\n",
    "df_rows['11'].plot(ax=ax)\n",
    "plt.xlabel('datasets')\n",
    "plt.ylabel('Training data values')\n",
    "plt.legend()\n",
    "plt.show()"
   ]
  },
  {
   "cell_type": "markdown",
   "metadata": {},
   "source": [
    "For each degree  𝑚=1,...,11  estimate the squared bias and the variance from the predictions for each of the  𝑘=200  training sets at  𝑥0=1.8  and store them in the lists sqbias and variance (which are already initiated as empty lists). Each of the lists should then only contain  11  elements. Print these lists. Finally visualize your results in one plot where the dependence of the variance and squared bias versus  𝑚  is shown. Again, the axes should be labeled apporopriately"
   ]
  },
  {
   "cell_type": "code",
   "execution_count": 463,
   "metadata": {},
   "outputs": [],
   "source": [
    "fixed_in = 1.8\n",
    "\n",
    "fixed_value = np.full((1, 200), 1.8)\n",
    "\n",
    "for col in range (0,200)"
   ]
  },
  {
   "cell_type": "code",
   "execution_count": null,
   "metadata": {},
   "outputs": [],
   "source": [
    "def run_fnc_1 (degree):\n",
    "    \n",
    "    predicted_list = np.zeros((1,200))\n",
    "\n",
    "    for col in range (0,200):\n",
    "    \n",
    "        if col == 0:\n",
    "            x_train = uniform_data[:,col]\n",
    "            y_train = result[:,col]\n",
    "            x_test  = uniform_data[:,-1]\n",
    "            predict_value = pol_reg_pred(x_train,y_train,x_test,degree)\n",
    "            predicted_list[:,-1] = predict_value\n",
    "        \n",
    "        else:\n",
    "            x_train = uniform_data[:,col]\n",
    "            y_train = result[:,col]\n",
    "            x_test  = uniform_data[:,col-1]\n",
    "            predict_value = pol_reg_pred(x_train,y_train,x_test,degree)\n",
    "            predicted_list[:,col-1] = predict_value\n",
    "            \n",
    "    return predicted_list"
   ]
  },
  {
   "cell_type": "code",
   "execution_count": 475,
   "metadata": {},
   "outputs": [],
   "source": [
    "result_fixed = np.zeros((1, 200))\n",
    "\n",
    "for i in range (200):\n",
    "        \n",
    "        input = 1.8\n",
    "        outcome_1 = function(input, mu, sigma)\n",
    "        result_fixed[0][i] = outcome_1 \n",
    "        \n"
   ]
  },
  {
   "cell_type": "code",
   "execution_count": 472,
   "metadata": {},
   "outputs": [],
   "source": [
    "result_fixed = np.zeros((1, 200))\n"
   ]
  },
  {
   "cell_type": "code",
   "execution_count": 477,
   "metadata": {},
   "outputs": [
    {
     "data": {
      "text/plain": [
       "(1, 200)"
      ]
     },
     "execution_count": 477,
     "metadata": {},
     "output_type": "execute_result"
    }
   ],
   "source": [
    "result_fixed.shape"
   ]
  },
  {
   "cell_type": "code",
   "execution_count": null,
   "metadata": {},
   "outputs": [],
   "source": []
  },
  {
   "attachments": {
    "Bias_variance.jpg": {
     "image/jpeg": "[encoded data removed]"
    }
   },
   "cell_type": "markdown",
   "metadata": {},
   "source": [
    "<h3 style=\"color:rgb(210,90,80)\">Question (10 points):</h3>\n",
    "\n",
    "If you did the previous task correctly, the resulting plot should look like this:\n",
    "![Bias_variance.jpg](attachment:Bias_variance.jpg)    \n",
    "\n",
    "\n",
    "What observations can you make from this plot? Tick the correct boxes (several may be correct):\n",
    "\n",
    "\n",
    "\\[  \\]   For appropriate complexity, i.e. $3 \\leq m < 7$, both model variance and bias are low, which indicates good generalization abilities. <br>\n",
    "\\[  \\] The variance is low for models which are too simple, i.e. $m<3$.<br>\n",
    "\\[  \\]   As the model becomes too complex, i.e. $m \\geq 7$, the variance increases again while the bias still decreases. This is an indication for underfitting.<br>\n",
    "<br>\n",
    "The model varies drastically in one point when trained on different data sets drawn from the same distribution.<br>\n",
    "\\[  \\] For these models, the bias is still low because the independent noise has zero mean and high individual biases cancel in expectation. <br>\n",
    "\\[  \\]  For these models, the variance is high because the independent noise has zero mean and high individual biases cancel in expectation. <br>"
   ]
  }
 ],
 "metadata": {
  "kernelspec": {
   "display_name": "Python 3",
   "language": "python",
   "name": "python3"
  },
  "language_info": {
   "codemirror_mode": {
    "name": "ipython",
    "version": 3
   },
   "file_extension": ".py",
   "mimetype": "text/x-python",
   "name": "python",
   "nbconvert_exporter": "python",
   "pygments_lexer": "ipython3",
   "version": "3.7.6"
  }
 },
 "nbformat": 4,
 "nbformat_minor": 2
}
